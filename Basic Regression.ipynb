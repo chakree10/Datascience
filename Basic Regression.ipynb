{
 "cells": [
  {
   "cell_type": "code",
   "execution_count": 1,
   "metadata": {
    "colab": {},
    "colab_type": "code",
    "id": "ZNV3Me1qTdR0"
   },
   "outputs": [],
   "source": [
    "import pandas as pd\n",
    "import numpy as np\n",
    "import statsmodels.api as sm"
   ]
  },
  {
   "cell_type": "code",
   "execution_count": 3,
   "metadata": {
    "colab": {},
    "colab_type": "code",
    "id": "c983T4PATd-m"
   },
   "outputs": [],
   "source": [
    "url = 'https://github.com/DataQuests/Pandas/raw/master/categorized.csv'\n",
    "df = pd.read_csv(url)"
   ]
  },
  {
   "cell_type": "code",
   "execution_count": 4,
   "metadata": {
    "colab": {
     "base_uri": "https://localhost:8080/",
     "height": 941
    },
    "colab_type": "code",
    "executionInfo": {
     "elapsed": 1207,
     "status": "ok",
     "timestamp": 1574262177829,
     "user": {
      "displayName": "Data Quest",
      "photoUrl": "",
      "userId": "06618852232210140223"
     },
     "user_tz": -330
    },
    "id": "I_rOO9ROTs4W",
    "outputId": "5e9d189a-24d7-49f8-da29-f92323ba6e33"
   },
   "outputs": [
    {
     "name": "stdout",
     "output_type": "stream",
     "text": [
      "Model Score:  0.0857790027227795\n",
      "Intercept: \n",
      " 39.60479504994778\n",
      "Coefficients: \n",
      " [-1.23987670e-02 -1.51427135e-02 -2.31556306e-02 -1.73523125e-02\n",
      " -1.67835982e-02  9.81663249e-01  2.69217729e-02  2.80737284e-02\n",
      "  2.44711852e-02 -1.16550948e+00 -2.28556055e-02  2.62180042e+04\n",
      "  4.48611986e+03 -3.07041073e+04 -1.59832980e+04]\n",
      "----------------------------------------------------------------------------------------------------\n",
      "                                              BASELINE                                              \n",
      "----------------------------------------------------------------------------------------------------\n",
      "                            OLS Regression Results                            \n",
      "==============================================================================\n",
      "Dep. Variable:                 cat_bl   R-squared:                       0.426\n",
      "Model:                            OLS   Adj. R-squared:                  0.331\n",
      "Method:                 Least Squares   F-statistic:                     4.499\n",
      "Date:                Wed, 20 Nov 2019   Prob (F-statistic):           2.76e-06\n",
      "Time:                        07:17:08   Log-Likelihood:                -105.83\n",
      "No. Observations:                 107   AIC:                             243.7\n",
      "Df Residuals:                      91   BIC:                             286.4\n",
      "Df Model:                          15                                         \n",
      "Covariance Type:            nonrobust                                         \n",
      "==============================================================================\n",
      "                 coef    std err          t      P>|t|      [0.025      0.975]\n",
      "------------------------------------------------------------------------------\n",
      "const         39.6048     12.925      3.064      0.003      13.931      65.279\n",
      "age_bl        -0.0124      0.011     -1.131      0.261      -0.034       0.009\n",
      "fma           -0.0151      0.065     -0.232      0.817      -0.145       0.115\n",
      "ffma          -0.0232      0.063     -0.369      0.713      -0.148       0.102\n",
      "bmi           -0.0174      0.058     -0.300      0.765      -0.132       0.098\n",
      "1 clinwt      -0.0168      0.059     -0.285      0.776      -0.134       0.100\n",
      "GENDER         0.9817      0.403      2.433      0.017       0.180       1.783\n",
      "B meanwst      0.0269      0.026      1.032      0.305      -0.025       0.079\n",
      "B meanumb      0.0281      0.025      1.124      0.264      -0.022       0.078\n",
      "B pulse        0.0245      0.010      2.401      0.018       0.004       0.045\n",
      "B temp        -1.1655      0.351     -3.317      0.001      -1.864      -0.467\n",
      "B resp        -0.0229      0.047     -0.490      0.626      -0.116       0.070\n",
      "B meansbp   2.622e+04   2.91e+04      0.902      0.369   -3.15e+04     8.4e+04\n",
      "B meandbp   4486.1171    1.3e+05      0.034      0.973   -2.54e+05    2.63e+05\n",
      "B meanbp    -3.07e+04   1.24e+05     -0.247      0.805   -2.77e+05    2.16e+05\n",
      "B pulseprs -1.598e+04   5.28e+04     -0.303      0.763   -1.21e+05    8.89e+04\n",
      "==============================================================================\n",
      "Omnibus:                        1.462   Durbin-Watson:                   1.969\n",
      "Prob(Omnibus):                  0.482   Jarque-Bera (JB):                1.512\n",
      "Skew:                           0.227   Prob(JB):                        0.470\n",
      "Kurtosis:                       2.636   Cond. No.                     6.51e+08\n",
      "==============================================================================\n",
      "\n",
      "Warnings:\n",
      "[1] Standard Errors assume that the covariance matrix of the errors is correctly specified.\n",
      "[2] The smallest eigenvalue is 1.45e-11. This might indicate that there are\n",
      "strong multicollinearity problems or that the design matrix is singular.\n",
      "----------------------------------------------------------------------------------------------------\n"
     ]
    },
    {
     "name": "stderr",
     "output_type": "stream",
     "text": [
      "C:\\Users\\TENN\\Anaconda3\\lib\\site-packages\\numpy\\core\\fromnumeric.py:2389: FutureWarning: Method .ptp is deprecated and will be removed in a future version. Use numpy.ptp instead.\n",
      "  return ptp(axis=axis, out=out, **kwargs)\n"
     ]
    }
   ],
   "source": [
    "from sklearn.linear_model import LinearRegression\n",
    "from sklearn import linear_model\n",
    "from sklearn.model_selection import train_test_split\n",
    "# from sklearn import metrics\n",
    "col = ['age_bl', 'fma', 'ffma', 'bmi', '1 clinwt', 'GENDER', 'B meanwst', 'B meanumb', 'B pulse', 'B temp', 'B resp', 'B meansbp', 'B meandbp', 'B meanbp', 'B pulseprs', ]\n",
    "X = df[col] \n",
    "y1 = df['cat_bl']\n",
    "\n",
    "X_train, X_test, y_train, y_test = train_test_split(X, y1, train_size=0.8, random_state=3)  \n",
    "model = LinearRegression()\n",
    "model.fit(X_train, y_train)   \n",
    "m = model.score(X_test,y_test)    \n",
    "\n",
    "regr_bl = linear_model.LinearRegression()\n",
    "regr_bl = regr_bl.fit(X, y1)\n",
    "\n",
    "\n",
    "print(\"Model Score: \", m)\n",
    "print('Intercept: \\n', regr_bl.intercept_)\n",
    "print('Coefficients: \\n', regr_bl.coef_)\n",
    "\n",
    "print('--'*50)\n",
    "print(\"BASELINE\".center(100))\n",
    "print('--'*50)\n",
    "\n",
    "\n",
    "X = sm.add_constant(X)  \n",
    "model_bl = sm.OLS(y1, X).fit()\n",
    "predictions = model_bl.predict(X) \n",
    " \n",
    "print_model = model_bl.summary()\n",
    "print(print_model)\n",
    "\n",
    "print(\"--\"*50)"
   ]
  },
  {
   "cell_type": "code",
   "execution_count": null,
   "metadata": {},
   "outputs": [],
   "source": []
  }
 ],
 "metadata": {
  "colab": {
   "collapsed_sections": [],
   "name": "Categorized.ipynb",
   "provenance": []
  },
  "kernelspec": {
   "display_name": "Python 3",
   "language": "python",
   "name": "python3"
  },
  "language_info": {
   "codemirror_mode": {
    "name": "ipython",
    "version": 3
   },
   "file_extension": ".py",
   "mimetype": "text/x-python",
   "name": "python",
   "nbconvert_exporter": "python",
   "pygments_lexer": "ipython3",
   "version": "3.7.3"
  }
 },
 "nbformat": 4,
 "nbformat_minor": 4
}
